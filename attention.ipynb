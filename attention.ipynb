{
  "cells": [
    {
      "cell_type": "code",
      "execution_count": null,
      "metadata": {
        "id": "XLq1tM_SsgPF"
      },
      "outputs": [],
      "source": [
        "import os\n",
        "import pickle\n",
        "import numpy as np\n",
        "import matplotlib.pyplot as plt\n",
        "from tqdm.notebook import tqdm\n",
        "\n",
        "import torch\n",
        "import torch.nn as nn\n",
        "import torch.optim as optim\n",
        "from torchvision import models, transforms\n",
        "from torch.utils.data import Dataset, DataLoader\n",
        "import torch.nn.functional as F\n",
        "from torch.nn.utils.rnn import pad_sequence\n",
        "\n",
        "from PIL import Image"
      ]
    },
    {
      "cell_type": "code",
      "execution_count": null,
      "metadata": {
        "id": "fFPErPn1qWW4"
      },
      "outputs": [],
      "source": [
        "import os\n",
        "import cv2\n",
        "from matplotlib import pyplot as plt\n",
        "\n",
        "# Set the paths to the dataset directories\n",
        "data_dir = \".\"\n",
        "dataset_dir =  data_dir + \"/Images\"\n",
        "annotations_path = data_dir + \"/captions.txt\"\n",
        "\n",
        "# Load annotations\n",
        "# with open(annotations_path, 'r') as file:\n",
        "#     annotations = file.readlines()\n",
        "with open(annotations_path, 'r') as file:\n",
        "    captions_doc = file.read()\n",
        "\n",
        "# # Process annotations to create a dictionary mapping image filenames to their captions\n",
        "# image_captions = {}\n",
        "# print(annotations[1])\n",
        "# for annotation in annotations[1:]:\n",
        "#     parts = annotation.strip().split(',')\n",
        "#     image_filename = parts[0]\n",
        "#     image_filename = image_filename\n",
        "#     caption = parts[1]\n",
        "#     if image_filename not in image_captions:\n",
        "#         image_captions[image_filename] = []\n",
        "#     image_captions[image_filename].append(caption)\n",
        "\n",
        "# # Load images\n",
        "\n",
        "# Images = []\n",
        "# for image_filename in image_captions.keys():\n",
        "#     image_path = os.path.join(dataset_dir, image_filename)\n",
        "#     Images.append(image_path)"
      ]
    },
    {
      "cell_type": "code",
      "execution_count": null,
      "metadata": {
        "colab": {
          "base_uri": "https://localhost:8080/"
        },
        "id": "wnAX-3tVsgPH",
        "outputId": "adff84eb-7dad-460c-ea6f-b91671b115cd"
      },
      "outputs": [],
      "source": [
        "# Device configuration\n",
        "device = (\n",
        "    \"cuda\"\n",
        "    if torch.cuda.is_available()\n",
        "    else \"mps\"\n",
        "    if torch.backends.mps.is_available() # For macOS\n",
        "    else \"cpu\"\n",
        ")\n",
        "\n",
        "print(f\"Using {device}\")"
      ]
    },
    {
      "cell_type": "code",
      "execution_count": null,
      "metadata": {
        "id": "KreR0leEsgPI"
      },
      "outputs": [],
      "source": [
        "class PositionalEncoding(nn.Module):\n",
        "    def __init__(self, seq_len, embedding_dim):\n",
        "        super(PositionalEncoding, self).__init__()\n",
        "        self.encoding = self.generate_positional_encoding(seq_len, embedding_dim)\n",
        "\n",
        "    def generate_positional_encoding(self, seq_len, embedding_dim):\n",
        "        position = torch.arange(0, seq_len, dtype=torch.float).unsqueeze(1)\n",
        "        div_term = torch.exp(torch.arange(0, embedding_dim, 2).float() * -(torch.log(torch.tensor(10000.0)) / embedding_dim))\n",
        "        pe = torch.zeros(seq_len, embedding_dim)\n",
        "        pe[:, 0::2] = torch.sin(position * div_term)\n",
        "        pe[:, 1::2] = torch.cos(position * div_term)\n",
        "        pe = pe.unsqueeze(0)  # Add batch dimension\n",
        "        return pe\n",
        "\n",
        "    def forward(self, x):\n",
        "        return x + self.encoding[:, :x.size(1)].to(device)\n",
        "\n",
        "\n",
        "class EncoderDecoderBlock(nn.Module):\n",
        "\n",
        "    def __init__(self, dim, n_self_heads, n_cross_heads, mlp_ratio=4, p_dropout=0.5):\n",
        "        super(EncoderDecoderBlock, self).__init__()\n",
        "\n",
        "        self.dim = dim\n",
        "        self.n_self_heads = n_self_heads\n",
        "        self.n_cross_heads = n_cross_heads\n",
        "        self.p_dropout = p_dropout\n",
        "        self.mlp_ratio = mlp_ratio\n",
        "        self.norm1 = nn.LayerNorm(self.dim)\n",
        "        self.norm2 = nn.LayerNorm(self.dim)\n",
        "        self.norm3 = nn.LayerNorm(self.dim)\n",
        "        self.cross_attention = nn.MultiheadAttention(self.dim, self.n_cross_heads, dropout=self.p_dropout, batch_first=True).to(device)\n",
        "        self.first_attention = nn.MultiheadAttention(self.dim, self.n_self_heads, dropout=self.p_dropout, batch_first=True).to(device)\n",
        "        self.MLP = nn.Sequential(\n",
        "            nn.Linear(self.dim, self.dim * mlp_ratio),\n",
        "            nn.ReLU(),\n",
        "            nn.Dropout(self.p_dropout),\n",
        "            nn.Linear(self.dim * mlp_ratio, self.dim)\n",
        "        )\n",
        "\n",
        "    def forward(self, x, features, attn_mask, key_mask):\n",
        "        \"\"\"\n",
        "        x : [n_samples, n_patches + 1, embedding_dim]\n",
        "        output : [n_samples, n_patches + 1, embedding_dim]\n",
        "        \"\"\"\n",
        "        attention_out, attn1_weights = self.first_attention(x, x, x, attn_mask=attn_mask, key_padding_mask=key_mask)\n",
        "        first_out = self.norm1(attention_out + x)\n",
        "        cross_attention, attn2_weights = self.cross_attention(first_out.to(device), features.to(device), features.to(device))\n",
        "        second_out = self.norm2(first_out + cross_attention)\n",
        "        mlp_out = self.MLP(second_out)\n",
        "        output = self.norm3(mlp_out + second_out)\n",
        "        # output = mlp_out\n",
        "        return output, attn1_weights, attn2_weights\n",
        "\n"
      ]
    },
    {
      "cell_type": "code",
      "execution_count": null,
      "metadata": {
        "colab": {
          "base_uri": "https://localhost:8080/",
          "height": 49,
          "referenced_widgets": [
            "6f0341671b3440b18709038e44800500",
            "43330a186a344e99bb9ad94c0e03e1d6",
            "5b671a0610f6447e9041901fe4f20a24",
            "7ba569f6d09143f8adab407821d23a48",
            "1faf2daf9c88438fa1b5e6d6ef7762f2",
            "138d525d4061473cad7de42fdbb1bec9",
            "a415b7695d1e48eba226a9564d551794",
            "db23287e77a94c79b3cdb38a9de79b25",
            "5f371c17867547a3aa15e812c992c74c",
            "dcd95733f22f4af5882dcfeea47b1957",
            "28e1fa45dbde474fb790fc5c2f71fa8e"
          ]
        },
        "id": "m6BDJpvA13ON",
        "outputId": "6a6a723f-e316-4d28-c595-6014a11e150a"
      },
      "outputs": [],
      "source": [
        "# Create mapping of image to captions\n",
        "mapping = {}\n",
        "for line in tqdm(captions_doc.split('\\n')[1:]):\n",
        "    tokens = line.split(',')\n",
        "    if len(line) < 2:\n",
        "        continue\n",
        "    image_id, caption = tokens[0], tokens[1:]\n",
        "    image_id = image_id.split('.')[0]\n",
        "    caption = \" \".join(caption)\n",
        "    if image_id not in mapping:\n",
        "        mapping[image_id] = []\n",
        "    mapping[image_id].append(caption)"
      ]
    },
    {
      "cell_type": "code",
      "execution_count": null,
      "metadata": {
        "id": "j7YZUYsb18ys"
      },
      "outputs": [],
      "source": [
        "# Clean the captions\n",
        "def clean(mapping):\n",
        "    for key, captions in mapping.items():\n",
        "        for i in range(len(captions)):\n",
        "            caption = captions[i]\n",
        "            caption = caption.lower()\n",
        "            caption = caption.replace('[^A-Za-z]', '')\n",
        "            caption = caption.replace('\\s+', ' ')\n",
        "            caption = 'startseq ' + \" \".join([word for word in caption.split() if len(word)>1]) + ' endseq'\n",
        "            captions[i] = caption"
      ]
    },
    {
      "cell_type": "code",
      "execution_count": null,
      "metadata": {
        "id": "uqVvS9eV1_jt"
      },
      "outputs": [],
      "source": [
        "# Preprocess the text\n",
        "clean(mapping)"
      ]
    },
    {
      "cell_type": "code",
      "execution_count": null,
      "metadata": {
        "colab": {
          "base_uri": "https://localhost:8080/"
        },
        "id": "dwI0HLcq2Caq",
        "outputId": "b2058828-88ed-4615-d493-245751252757"
      },
      "outputs": [],
      "source": [
        "all_captions = [caption for captions in mapping.values() for caption in captions]\n",
        "len(all_captions)"
      ]
    },
    {
      "cell_type": "code",
      "execution_count": null,
      "metadata": {
        "colab": {
          "base_uri": "https://localhost:8080/"
        },
        "id": "Kdy3Fhl41v1k",
        "outputId": "1a1616f7-aaad-4c28-d01b-4eace98a2122"
      },
      "outputs": [],
      "source": [
        "import torchtext\n",
        "from torchtext.data import get_tokenizer\n",
        "\n",
        "tokenizer = get_tokenizer(\"basic_english\")\n",
        "\n",
        "# Tokenize the text\n",
        "tokenized_text = [tokenizer(caption) for caption in all_captions]\n",
        "\n",
        "# Build vocabulary : Mapping every token to an integer index\n",
        "vocab = torchtext.vocab.build_vocab_from_iterator(tokenized_text)\n",
        "vocab_size = len(vocab)\n",
        "print(vocab_size)"
      ]
    },
    {
      "cell_type": "code",
      "execution_count": null,
      "metadata": {
        "colab": {
          "base_uri": "https://localhost:8080/"
        },
        "id": "Yu9mEH2F1yPG",
        "outputId": "e2e79d47-9018-4445-e649-3913417231cc"
      },
      "outputs": [],
      "source": [
        "max_length = max(len(caption.split()) for caption in all_captions)\n",
        "print(max_length)"
      ]
    },
    {
      "cell_type": "code",
      "execution_count": null,
      "metadata": {
        "id": "EnaHgWZb2eGx"
      },
      "outputs": [],
      "source": [
        "\n",
        "def one_hot(a, num_classes):\n",
        "\n",
        "    out = np.zeros(num_classes)\n",
        "    out[a] = 1\n",
        "    return out\n"
      ]
    },
    {
      "cell_type": "code",
      "execution_count": null,
      "metadata": {
        "colab": {
          "base_uri": "https://localhost:8080/",
          "height": 84,
          "referenced_widgets": [
            "dd8138868b32473a83752a29005fabc9",
            "3d629e81545a46289db90f02ed1d127d",
            "77d067f1bc974a14a619e7a65d66b678",
            "64e166aa90274ff0bd4c17f241531481",
            "93f774e5c2a34106a73f4a3cdd5caa97",
            "4bc29f5d5ce845dbb45902b2e6c9d0c0",
            "960988225d644f6684ad22de0e466ff5",
            "fbc8eb6827824fa79c35f71f6e3e67a8",
            "065c144670b14b97937ea9d4c5b5d67f",
            "7cb3c719016c4ad6a00df31c3f22dbec",
            "c951a0e6034148e78349d97d32bf93a6"
          ]
        },
        "id": "9giaGBXspVy4",
        "outputId": "f69f9ace-849a-4232-9fa9-575424197d2e"
      },
      "outputs": [],
      "source": [
        "# Extract features from images\n",
        "features = {}\n",
        "# directory = 'Images'\n",
        "\n",
        "\n",
        "from torchvision.models.vision_transformer import vit_b_16\n",
        "from torchvision.models import ViT_B_16_Weights\n",
        "\n",
        "\n",
        "vit = vit_b_16(weights=ViT_B_16_Weights.DEFAULT).to(device)\n",
        "transform = transforms.Compose([\n",
        "    transforms.Resize((224, 224)),\n",
        "    transforms.ToTensor(),\n",
        "    transforms.Normalize(mean=[0.485, 0.456, 0.406], std=[0.229, 0.224, 0.225]),\n",
        "])\n",
        "\n",
        "for img_name in tqdm(os.listdir(dataset_dir)):\n",
        "    img_path = os.path.join(dataset_dir, img_name)\n",
        "    image = Image.open(img_path).convert('RGB')\n",
        "    image = transform(image).unsqueeze(0).to(device)\n",
        "\n",
        "    feats = vit._process_input(image)\n",
        "    # Expand the class token to the full batch\n",
        "    batch_class_token = vit.class_token.expand(image.shape[0], -1, -1)\n",
        "    feature = torch.cat([batch_class_token, feats], dim=1)\n",
        "    feature = vit.encoder(feature)\n",
        "\n",
        "    feature = feature.squeeze().clone().detach().requires_grad_(False).cpu().numpy()\n",
        "    image_id = img_name.split('.')[0]\n",
        "    features[image_id] = feature"
      ]
    },
    {
      "cell_type": "code",
      "execution_count": null,
      "metadata": {
        "id": "sbg-KaZFpVy4"
      },
      "outputs": [],
      "source": [
        "# # Store features in pickle\n",
        "with open(os.path.join('./', 'features_vit.pkl'), 'wb') as f:\n",
        "     pickle.dump(features, f)"
      ]
    },
    {
      "cell_type": "code",
      "execution_count": null,
      "metadata": {
        "id": "fknpBM-TpVy5"
      },
      "outputs": [],
      "source": [
        "# # Load features from pickle\n",
        "with open(os.path.join('./', 'features_vit.pkl'), 'rb') as f:\n",
        "    features = pickle.load(f)"
      ]
    },
    {
      "cell_type": "code",
      "execution_count": null,
      "metadata": {
        "colab": {
          "base_uri": "https://localhost:8080/"
        },
        "id": "9yYcQjVdpVy5",
        "outputId": "43d56cb4-9310-4c07-a4af-faa9116e688e"
      },
      "outputs": [],
      "source": [
        "\n",
        "print(features['3250076419_eb3de15063'].shape)"
      ]
    },
    {
      "cell_type": "code",
      "execution_count": null,
      "metadata": {
        "id": "D0G-32gdcPA8"
      },
      "outputs": [],
      "source": [
        "class CaptioningDataset(Dataset):\n",
        "  def __init__(self, data_keys, features, mapping, transform, tokenizer, max_length):\n",
        "    self.data_keys = data_keys\n",
        "    self.mapping = mapping\n",
        "    self.transform = transform\n",
        "    self.tokenizer = tokenizer\n",
        "    self.max_length = max_length\n",
        "    self.features = features\n",
        "\n",
        "  def __len__(self):\n",
        "    return len(self.data_keys)\n",
        "\n",
        "  def __getitem__(self, idx):\n",
        "      key = self.data_keys[idx]\n",
        "      captions = self.mapping[key]\n",
        "\n",
        "      caption = captions[0]#np.random.choice(len(captions))]\n",
        "      input2, y = torch.zeros(self.max_length).int(), torch.zeros((self.max_length, vocab_size))\n",
        "\n",
        "      tokens = self.tokenizer(caption)\n",
        "      caption_indices = [vocab[token] for token in tokens]\n",
        "      feats = torch.as_tensor(self.features[key])\n",
        "\n",
        "      for i in range(1, len(caption_indices)):\n",
        "          in_seq, out_seq = caption_indices[i-1], caption_indices[i]\n",
        "\n",
        "          out_seq = int(out_seq)\n",
        "\n",
        "          out_seq = one_hot(out_seq, num_classes=vocab_size)\n",
        "          input2[i-1] = int(in_seq)\n",
        "\n",
        "          y[i-1] = torch.as_tensor(out_seq)\n",
        "      return feats, input2, y, idx\n",
        "\n",
        "\n"
      ]
    },
    {
      "cell_type": "code",
      "execution_count": null,
      "metadata": {
        "id": "l0MO0wEh21Y0"
      },
      "outputs": [],
      "source": [
        "transform = transforms.Compose([\n",
        "    transforms.Resize((224, 224)),\n",
        "    transforms.ToTensor(),\n",
        "    transforms.Normalize(mean=[0.485, 0.456, 0.406], std=[0.229, 0.224, 0.225]),\n",
        "])"
      ]
    },
    {
      "cell_type": "code",
      "execution_count": null,
      "metadata": {
        "id": "gnfzPEGg4OMA"
      },
      "outputs": [],
      "source": [
        "image_ids = list(mapping.keys())\n",
        "split = int(len(image_ids) * 0.75)\n",
        "train = image_ids[:split]\n",
        "test = image_ids[split:]"
      ]
    },
    {
      "cell_type": "code",
      "execution_count": null,
      "metadata": {
        "colab": {
          "base_uri": "https://localhost:8080/"
        },
        "id": "hDrNDPSqdbYR",
        "outputId": "a6023c48-c4e3-4a9d-a9cc-d5094ad83290"
      },
      "outputs": [],
      "source": [
        "print(len(image_ids))"
      ]
    },
    {
      "cell_type": "code",
      "execution_count": null,
      "metadata": {
        "id": "hjYvabxM4zOD"
      },
      "outputs": [],
      "source": [
        "batch_size = 32\n",
        "train_dataset = CaptioningDataset(train, features, mapping, transform, tokenizer, max_length)\n",
        "train_loader = DataLoader(train_dataset, batch_size=batch_size, shuffle=True, num_workers=4)"
      ]
    },
    {
      "cell_type": "code",
      "execution_count": null,
      "metadata": {
        "id": "aQHuJCjw4_rL"
      },
      "outputs": [],
      "source": [
        "\n",
        "test_dataset = CaptioningDataset(test, features, mapping, transform, tokenizer, max_length)\n",
        "test_loader = DataLoader(test_dataset, batch_size=batch_size, shuffle=True, num_workers=4)"
      ]
    },
    {
      "cell_type": "code",
      "execution_count": null,
      "metadata": {
        "colab": {
          "base_uri": "https://localhost:8080/"
        },
        "id": "bWY7v_LO5FSw",
        "outputId": "e13148fc-7098-467b-fc3e-ca5cf36f8386"
      },
      "outputs": [],
      "source": [
        "print(train_dataset.__getitem__(0)[0].size())\n",
        "print(train_dataset.__getitem__(0)[1].size())\n",
        "print(train_dataset.__getitem__(0)[2].size())"
      ]
    },
    {
      "cell_type": "code",
      "execution_count": null,
      "metadata": {
        "id": "A7ibHm2C5yQ-"
      },
      "outputs": [],
      "source": [
        "class ImageCaptioningModel(nn.Module):\n",
        "  def __init__(self, encoder_decoder, pos_enc, vocab_size, img_embedding_dim, token_embedding_dim):\n",
        "    super().__init__()\n",
        "    self.vocab_size = vocab_size\n",
        "    self.img_embedding_dim = img_embedding_dim\n",
        "    self.token_embedding_dim = token_embedding_dim\n",
        "\n",
        "    self.transformer = encoder_decoder.to(device)\n",
        "    self.pos_enc = pos_enc.to(device)\n",
        "    self.process_feats = nn.Sequential(\n",
        "            nn.Linear(self.img_embedding_dim, 512),\n",
        "            nn.ReLU(),\n",
        "            nn.Linear(512, self.token_embedding_dim)\n",
        "        )\n",
        "    self.embedding = nn.Embedding(self.vocab_size, self.token_embedding_dim)\n",
        "    self.decoder = nn.Linear(self.token_embedding_dim, vocab_size)\n",
        "\n",
        "  def forward(self, feats, input2, attn_mask, key_mask=None):\n",
        "    embedding_out = self.embedding(input2)\n",
        "\n",
        "    pe_out = self.pos_enc(embedding_out.to(device))\n",
        "\n",
        "    feats_out = self.process_feats(feats)\n",
        "\n",
        "    output, attn1, attn2 = self.transformer(pe_out, feats_out, attn_mask, key_mask)\n",
        "\n",
        "    output = self.decoder(output)\n",
        "\n",
        "    return output, attn1, attn2\n",
        "\n",
        "\n"
      ]
    },
    {
      "cell_type": "code",
      "execution_count": null,
      "metadata": {
        "id": "u4hw4XuGpVy7"
      },
      "outputs": [],
      "source": [
        "data_iter = iter(train_loader)\n",
        "single_batch = next(data_iter)\n",
        "\n",
        "image, input2, targets, idx = single_batch"
      ]
    },
    {
      "cell_type": "code",
      "execution_count": null,
      "metadata": {
        "id": "tWEfQPNaL0Vd"
      },
      "outputs": [],
      "source": [
        "# Instantiate the model\n",
        "token_embedding_size = 512\n",
        "img_embedding_size = 768\n",
        "\n",
        "n_heads = 8\n",
        "dropout = 0.0\n",
        "\n",
        "transformer = EncoderDecoderBlock(token_embedding_size,n_heads, n_heads, mlp_ratio=2, p_dropout=dropout)\n",
        "pe_enc = PositionalEncoding(max_length, token_embedding_size)\n",
        "\n",
        "model = ImageCaptioningModel(transformer , pe_enc, vocab_size, img_embedding_dim=img_embedding_size, token_embedding_dim=token_embedding_size)\n",
        "model = model.to(device)"
      ]
    },
    {
      "cell_type": "code",
      "execution_count": null,
      "metadata": {
        "id": "-grJwFiIL19u"
      },
      "outputs": [],
      "source": [
        "criterion = nn.CrossEntropyLoss()\n",
        "optimizer = torch.optim.Adam(model.parameters(), lr=0.001)"
      ]
    },
    {
      "cell_type": "code",
      "execution_count": null,
      "metadata": {},
      "outputs": [],
      "source": [
        "at_mask = [[-np.inf for _ in range(max_length)] for _ in range(max_length)]\n",
        "at_mask = torch.tensor(at_mask)\n",
        "attn_mask = torch.triu(at_mask, diagonal=1)\n",
        "print(attn_mask)"
      ]
    },
    {
      "cell_type": "code",
      "execution_count": null,
      "metadata": {},
      "outputs": [],
      "source": [
        "# Evaluation\n",
        "def idx_to_word(index):\n",
        "    try:\n",
        "        return vocab.get_itos()[index]\n",
        "    except:\n",
        "        return None\n",
        "\n",
        "def predict_caption(model, image_id, max_length):\n",
        "    with torch.no_grad():\n",
        "        model.eval()\n",
        "        feats = torch.as_tensor(features[image_id]).unsqueeze(0).to(device)\n",
        "        input2 = torch.zeros(max_length, dtype=torch.int64)\n",
        "        in_text = 'startseq'\n",
        "        idx = 1\n",
        "        attns = []\n",
        "        for _ in range(max_length):\n",
        "            input2[idx - 1] = torch.as_tensor(vocab[in_text.split(' ')[-1]], dtype=torch.int64)\n",
        "            input2 = input2.to(device)\n",
        "\n",
        "            mask = torch.arange(0, max_length) >= idx\n",
        "            mask = mask.unsqueeze(0).to(device)\n",
        "\n",
        "            wrapper = torch.zeros(n_heads, max_length, max_length)\n",
        "            at_mask = [[-np.inf for _ in range(max_length)] for _ in range(max_length)]\n",
        "            at_mask = torch.tensor(at_mask)\n",
        "            attn_mask = torch.triu(at_mask, diagonal=1)\n",
        "\n",
        "\n",
        "            for i in range(n_heads):\n",
        "                wrapper[i,:,:] = attn_mask\n",
        "            #mask = torch.sum(targets, dim=-1) == 0\n",
        "            attn_mask = wrapper\n",
        "\n",
        "            outputs, attn1, attn2 = model(feats, input2, attn_mask.to(device), mask.to(device))\n",
        "            outs = outputs\n",
        "            attns.append([attn1.detach(), attn2.detach()])\n",
        "            outputs = F.softmax(outputs[0][idx], dim=-1)\n",
        "\n",
        "            idx += 1\n",
        "            #y_pred = torch.multinomial(outputs, 1).squeeze(0).item()\n",
        "            y_pred = torch.argmax(outputs, dim = -1)\n",
        "            word = idx_to_word(y_pred)\n",
        "            in_text += ' ' + word\n",
        "\n",
        "            if word is None or word == 'endseq' or idx == max_length:\n",
        "                break\n",
        "\n",
        "        target_tokens = tokenizer(mapping[image_id][0])\n",
        "        target = torch.tensor([vocab[token] for token in target_tokens]).squeeze().to(device).long()\n",
        "        test_loss = criterion(F.one_hot(input2[:len(target)], num_classes=vocab_size).float(), target)\n",
        "\n",
        "    return in_text, test_loss.item(), attns"
      ]
    },
    {
      "cell_type": "code",
      "execution_count": null,
      "metadata": {},
      "outputs": [],
      "source": [
        "loss_test_hist = []\n",
        "loss_train_hist = []\n",
        "blue_score_hist = []"
      ]
    },
    {
      "cell_type": "code",
      "execution_count": null,
      "metadata": {
        "id": "XE1UF4p8LNqS"
      },
      "outputs": [],
      "source": [
        "# Train the model\n",
        "\n",
        "from nltk.translate.bleu_score import corpus_bleu\n",
        "\n",
        "num_epochs = 100\n",
        "\n",
        "for epoch in range(num_epochs):\n",
        "    total_loss_train = 0\n",
        "    total_loss_test = 0\n",
        "    for batch in train_loader:\n",
        "        model.train()\n",
        "\n",
        "        image, inputs2, targets, _ = batch\n",
        "\n",
        "        image, inputs2, targets = image.to(device), inputs2.to(device), targets.to(device)\n",
        "        # Generate output sequence from the model\n",
        "        wrapper = torch.zeros(n_heads * len(batch[0]), max_length, max_length)\n",
        "        at_mask = [[-np.inf for _ in range(max_length)] for _ in range(max_length)]\n",
        "        at_mask = torch.tensor(at_mask)\n",
        "        attn_mask = torch.triu(at_mask, diagonal=1)\n",
        "\n",
        "        for i in range(n_heads * len(batch[0])):\n",
        "           wrapper[i,:,:] = attn_mask\n",
        "        mask = torch.sum(targets, dim=-1) == 0\n",
        "        attn_mask = wrapper\n",
        "        output, attn1, attn2 = model(image, inputs2, attn_mask.to(device), mask.to(device))\n",
        "        mask_out = ~mask#torch.sum(targets, dim=-1) != 0\n",
        "        output_flat = output.view(-1, vocab_size)\n",
        "        targets_flat = targets.view(-1, vocab_size)\n",
        "\n",
        "        # Apply the mask\n",
        "        output_masked = output_flat[mask_out.view(-1)]\n",
        "        targets_masked = targets_flat[mask_out.view(-1)]\n",
        "        loss = criterion(output_masked, targets_masked)\n",
        "\n",
        "        optimizer.zero_grad()\n",
        "        loss.backward()\n",
        "        optimizer.step()\n",
        "\n",
        "        total_loss_train += loss.item()\n",
        "\n",
        "    average_loss_train = total_loss_train / len(train_loader)\n",
        "    #if epoch % 4 == 0 or epoch == num_epochs - 1 :\n",
        "    actual, predicted = [], []\n",
        "    for key in test[:128]:\n",
        "        captions = mapping[key]\n",
        "        y_pred, test_loss, attn = predict_caption(model, key, max_length)\n",
        "        actual_captions = [captions[0].split() ]#for caption in captions]\n",
        "\n",
        "        \n",
        "        y_pred = y_pred.split()\n",
        "        actual.append(actual_captions)\n",
        "        predicted.append(y_pred)\n",
        "\n",
        "        total_loss_test += test_loss\n",
        "    \n",
        "    average_loss_test = total_loss_test / len(test[:128])\n",
        "    bleu1_test = corpus_bleu(actual, predicted, weights=(1.0, 0, 0, 0))\n",
        "\n",
        "    loss_train_hist.append(average_loss_train)\n",
        "    loss_test_hist.append(average_loss_test)\n",
        "    blue_score_hist.append(bleu1_test)\n",
        "    print(f'Epoch [{epoch + 1}/{num_epochs}], Loss Train: {average_loss_train:.4f}, Loss Test: {average_loss_test:.4f} BLEU-1 Score Test: {bleu1_test}')\n",
        "    #else :\n",
        "        #print(f'Epoch [{epoch + 1}/{num_epochs}], Loss Train: {average_loss_train:.4f}')"
      ]
    },
    {
      "cell_type": "code",
      "execution_count": null,
      "metadata": {},
      "outputs": [],
      "source": [
        "x = np.linspace(0,num_epochs, num_epochs)\n",
        "\n",
        "plt.plot(x, loss_train_hist, 'b', label='train loss')\n",
        "plt.plot(x, loss_test_hist, 'r', label='test loss')\n",
        "plt.legend()\n",
        "plt.title('Loss evolution over epochs')\n",
        "plt.savefig('loss_total.png')"
      ]
    },
    {
      "cell_type": "code",
      "execution_count": null,
      "metadata": {},
      "outputs": [],
      "source": [
        "plt.plot(x, blue_score_hist, label='blue score')\n",
        "plt.title('Bleu score evolution over epochs')\n",
        "plt.savefig('bleu_score_total.png')"
      ]
    },
    {
      "cell_type": "code",
      "execution_count": null,
      "metadata": {
        "id": "u3M206-RpVy9"
      },
      "outputs": [],
      "source": [
        "# Generate caption for an image\n",
        "def generate_caption(model, image_name) :\n",
        "    image_id = image_name.split('.')[0]\n",
        "    img_path = os.path.join(dataset_dir, image_name)\n",
        "    image = Image.open(img_path)\n",
        "\n",
        "    captions = mapping[image_id]\n",
        "    print('---------------------Actual---------------------')\n",
        "    for caption in captions:\n",
        "        print(caption)\n",
        "\n",
        "    y_pred, loss, attns = predict_caption(model, image_id, 35)\n",
        "    print('--------------------Predicted--------------------')\n",
        "    print(y_pred)\n",
        "\n",
        "    plt.imshow(image)"
      ]
    },
    {
      "cell_type": "code",
      "execution_count": null,
      "metadata": {
        "colab": {
          "base_uri": "https://localhost:8080/",
          "height": 609
        },
        "id": "I9AzlL1sKgTj",
        "outputId": "83374e8c-7f97-4fef-8e9e-eac19159b282"
      },
      "outputs": [],
      "source": [
        "print(generate_caption(model, f'{train[900]}.jpg'))\n",
        "#tensor([4998, 5071,  619,  402, 5488,  642, 1609, 5000, 5381, 6045, 3427, 2610,"
      ]
    },
    {
      "cell_type": "code",
      "execution_count": null,
      "metadata": {
        "colab": {
          "base_uri": "https://localhost:8080/",
          "height": 570
        },
        "id": "tO8GSwx-pVy_",
        "outputId": "eccc6f1c-b353-4eff-a81a-e5d915d90ce2"
      },
      "outputs": [],
      "source": [
        "print(generate_caption(model, f'{test[160]}.jpg'))"
      ]
    },
    {
      "cell_type": "code",
      "execution_count": null,
      "metadata": {},
      "outputs": [],
      "source": [
        "torch.save(model.state_dict(), 'alphaModel.pt')"
      ]
    }
  ],
  "metadata": {
    "accelerator": "GPU",
    "colab": {
      "gpuType": "T4",
      "provenance": []
    },
    "kernelspec": {
      "display_name": "Python 3",
      "name": "python3"
    },
    "language_info": {
      "codemirror_mode": {
        "name": "ipython",
        "version": 3
      },
      "file_extension": ".py",
      "mimetype": "text/x-python",
      "name": "python",
      "nbconvert_exporter": "python",
      "pygments_lexer": "ipython3",
      "version": "3.11.4"
    },
    "widgets": {
      "application/vnd.jupyter.widget-state+json": {
        "065c144670b14b97937ea9d4c5b5d67f": {
          "model_module": "@jupyter-widgets/controls",
          "model_module_version": "1.5.0",
          "model_name": "ProgressStyleModel",
          "state": {
            "_model_module": "@jupyter-widgets/controls",
            "_model_module_version": "1.5.0",
            "_model_name": "ProgressStyleModel",
            "_view_count": null,
            "_view_module": "@jupyter-widgets/base",
            "_view_module_version": "1.2.0",
            "_view_name": "StyleView",
            "bar_color": null,
            "description_width": ""
          }
        },
        "138d525d4061473cad7de42fdbb1bec9": {
          "model_module": "@jupyter-widgets/base",
          "model_module_version": "1.2.0",
          "model_name": "LayoutModel",
          "state": {
            "_model_module": "@jupyter-widgets/base",
            "_model_module_version": "1.2.0",
            "_model_name": "LayoutModel",
            "_view_count": null,
            "_view_module": "@jupyter-widgets/base",
            "_view_module_version": "1.2.0",
            "_view_name": "LayoutView",
            "align_content": null,
            "align_items": null,
            "align_self": null,
            "border": null,
            "bottom": null,
            "display": null,
            "flex": null,
            "flex_flow": null,
            "grid_area": null,
            "grid_auto_columns": null,
            "grid_auto_flow": null,
            "grid_auto_rows": null,
            "grid_column": null,
            "grid_gap": null,
            "grid_row": null,
            "grid_template_areas": null,
            "grid_template_columns": null,
            "grid_template_rows": null,
            "height": null,
            "justify_content": null,
            "justify_items": null,
            "left": null,
            "margin": null,
            "max_height": null,
            "max_width": null,
            "min_height": null,
            "min_width": null,
            "object_fit": null,
            "object_position": null,
            "order": null,
            "overflow": null,
            "overflow_x": null,
            "overflow_y": null,
            "padding": null,
            "right": null,
            "top": null,
            "visibility": null,
            "width": null
          }
        },
        "1faf2daf9c88438fa1b5e6d6ef7762f2": {
          "model_module": "@jupyter-widgets/base",
          "model_module_version": "1.2.0",
          "model_name": "LayoutModel",
          "state": {
            "_model_module": "@jupyter-widgets/base",
            "_model_module_version": "1.2.0",
            "_model_name": "LayoutModel",
            "_view_count": null,
            "_view_module": "@jupyter-widgets/base",
            "_view_module_version": "1.2.0",
            "_view_name": "LayoutView",
            "align_content": null,
            "align_items": null,
            "align_self": null,
            "border": null,
            "bottom": null,
            "display": null,
            "flex": null,
            "flex_flow": null,
            "grid_area": null,
            "grid_auto_columns": null,
            "grid_auto_flow": null,
            "grid_auto_rows": null,
            "grid_column": null,
            "grid_gap": null,
            "grid_row": null,
            "grid_template_areas": null,
            "grid_template_columns": null,
            "grid_template_rows": null,
            "height": null,
            "justify_content": null,
            "justify_items": null,
            "left": null,
            "margin": null,
            "max_height": null,
            "max_width": null,
            "min_height": null,
            "min_width": null,
            "object_fit": null,
            "object_position": null,
            "order": null,
            "overflow": null,
            "overflow_x": null,
            "overflow_y": null,
            "padding": null,
            "right": null,
            "top": null,
            "visibility": null,
            "width": null
          }
        },
        "28e1fa45dbde474fb790fc5c2f71fa8e": {
          "model_module": "@jupyter-widgets/controls",
          "model_module_version": "1.5.0",
          "model_name": "DescriptionStyleModel",
          "state": {
            "_model_module": "@jupyter-widgets/controls",
            "_model_module_version": "1.5.0",
            "_model_name": "DescriptionStyleModel",
            "_view_count": null,
            "_view_module": "@jupyter-widgets/base",
            "_view_module_version": "1.2.0",
            "_view_name": "StyleView",
            "description_width": ""
          }
        },
        "3d629e81545a46289db90f02ed1d127d": {
          "model_module": "@jupyter-widgets/controls",
          "model_module_version": "1.5.0",
          "model_name": "HTMLModel",
          "state": {
            "_dom_classes": [],
            "_model_module": "@jupyter-widgets/controls",
            "_model_module_version": "1.5.0",
            "_model_name": "HTMLModel",
            "_view_count": null,
            "_view_module": "@jupyter-widgets/controls",
            "_view_module_version": "1.5.0",
            "_view_name": "HTMLView",
            "description": "",
            "description_tooltip": null,
            "layout": "IPY_MODEL_4bc29f5d5ce845dbb45902b2e6c9d0c0",
            "placeholder": "​",
            "style": "IPY_MODEL_960988225d644f6684ad22de0e466ff5",
            "value": "100%"
          }
        },
        "43330a186a344e99bb9ad94c0e03e1d6": {
          "model_module": "@jupyter-widgets/controls",
          "model_module_version": "1.5.0",
          "model_name": "HTMLModel",
          "state": {
            "_dom_classes": [],
            "_model_module": "@jupyter-widgets/controls",
            "_model_module_version": "1.5.0",
            "_model_name": "HTMLModel",
            "_view_count": null,
            "_view_module": "@jupyter-widgets/controls",
            "_view_module_version": "1.5.0",
            "_view_name": "HTMLView",
            "description": "",
            "description_tooltip": null,
            "layout": "IPY_MODEL_138d525d4061473cad7de42fdbb1bec9",
            "placeholder": "​",
            "style": "IPY_MODEL_a415b7695d1e48eba226a9564d551794",
            "value": "100%"
          }
        },
        "4bc29f5d5ce845dbb45902b2e6c9d0c0": {
          "model_module": "@jupyter-widgets/base",
          "model_module_version": "1.2.0",
          "model_name": "LayoutModel",
          "state": {
            "_model_module": "@jupyter-widgets/base",
            "_model_module_version": "1.2.0",
            "_model_name": "LayoutModel",
            "_view_count": null,
            "_view_module": "@jupyter-widgets/base",
            "_view_module_version": "1.2.0",
            "_view_name": "LayoutView",
            "align_content": null,
            "align_items": null,
            "align_self": null,
            "border": null,
            "bottom": null,
            "display": null,
            "flex": null,
            "flex_flow": null,
            "grid_area": null,
            "grid_auto_columns": null,
            "grid_auto_flow": null,
            "grid_auto_rows": null,
            "grid_column": null,
            "grid_gap": null,
            "grid_row": null,
            "grid_template_areas": null,
            "grid_template_columns": null,
            "grid_template_rows": null,
            "height": null,
            "justify_content": null,
            "justify_items": null,
            "left": null,
            "margin": null,
            "max_height": null,
            "max_width": null,
            "min_height": null,
            "min_width": null,
            "object_fit": null,
            "object_position": null,
            "order": null,
            "overflow": null,
            "overflow_x": null,
            "overflow_y": null,
            "padding": null,
            "right": null,
            "top": null,
            "visibility": null,
            "width": null
          }
        },
        "5b671a0610f6447e9041901fe4f20a24": {
          "model_module": "@jupyter-widgets/controls",
          "model_module_version": "1.5.0",
          "model_name": "FloatProgressModel",
          "state": {
            "_dom_classes": [],
            "_model_module": "@jupyter-widgets/controls",
            "_model_module_version": "1.5.0",
            "_model_name": "FloatProgressModel",
            "_view_count": null,
            "_view_module": "@jupyter-widgets/controls",
            "_view_module_version": "1.5.0",
            "_view_name": "ProgressView",
            "bar_style": "success",
            "description": "",
            "description_tooltip": null,
            "layout": "IPY_MODEL_db23287e77a94c79b3cdb38a9de79b25",
            "max": 40456,
            "min": 0,
            "orientation": "horizontal",
            "style": "IPY_MODEL_5f371c17867547a3aa15e812c992c74c",
            "value": 40456
          }
        },
        "5f371c17867547a3aa15e812c992c74c": {
          "model_module": "@jupyter-widgets/controls",
          "model_module_version": "1.5.0",
          "model_name": "ProgressStyleModel",
          "state": {
            "_model_module": "@jupyter-widgets/controls",
            "_model_module_version": "1.5.0",
            "_model_name": "ProgressStyleModel",
            "_view_count": null,
            "_view_module": "@jupyter-widgets/base",
            "_view_module_version": "1.2.0",
            "_view_name": "StyleView",
            "bar_color": null,
            "description_width": ""
          }
        },
        "64e166aa90274ff0bd4c17f241531481": {
          "model_module": "@jupyter-widgets/controls",
          "model_module_version": "1.5.0",
          "model_name": "HTMLModel",
          "state": {
            "_dom_classes": [],
            "_model_module": "@jupyter-widgets/controls",
            "_model_module_version": "1.5.0",
            "_model_name": "HTMLModel",
            "_view_count": null,
            "_view_module": "@jupyter-widgets/controls",
            "_view_module_version": "1.5.0",
            "_view_name": "HTMLView",
            "description": "",
            "description_tooltip": null,
            "layout": "IPY_MODEL_7cb3c719016c4ad6a00df31c3f22dbec",
            "placeholder": "​",
            "style": "IPY_MODEL_c951a0e6034148e78349d97d32bf93a6",
            "value": " 8091/8091 [02:34&lt;00:00, 54.06it/s]"
          }
        },
        "6f0341671b3440b18709038e44800500": {
          "model_module": "@jupyter-widgets/controls",
          "model_module_version": "1.5.0",
          "model_name": "HBoxModel",
          "state": {
            "_dom_classes": [],
            "_model_module": "@jupyter-widgets/controls",
            "_model_module_version": "1.5.0",
            "_model_name": "HBoxModel",
            "_view_count": null,
            "_view_module": "@jupyter-widgets/controls",
            "_view_module_version": "1.5.0",
            "_view_name": "HBoxView",
            "box_style": "",
            "children": [
              "IPY_MODEL_43330a186a344e99bb9ad94c0e03e1d6",
              "IPY_MODEL_5b671a0610f6447e9041901fe4f20a24",
              "IPY_MODEL_7ba569f6d09143f8adab407821d23a48"
            ],
            "layout": "IPY_MODEL_1faf2daf9c88438fa1b5e6d6ef7762f2"
          }
        },
        "77d067f1bc974a14a619e7a65d66b678": {
          "model_module": "@jupyter-widgets/controls",
          "model_module_version": "1.5.0",
          "model_name": "FloatProgressModel",
          "state": {
            "_dom_classes": [],
            "_model_module": "@jupyter-widgets/controls",
            "_model_module_version": "1.5.0",
            "_model_name": "FloatProgressModel",
            "_view_count": null,
            "_view_module": "@jupyter-widgets/controls",
            "_view_module_version": "1.5.0",
            "_view_name": "ProgressView",
            "bar_style": "success",
            "description": "",
            "description_tooltip": null,
            "layout": "IPY_MODEL_fbc8eb6827824fa79c35f71f6e3e67a8",
            "max": 8091,
            "min": 0,
            "orientation": "horizontal",
            "style": "IPY_MODEL_065c144670b14b97937ea9d4c5b5d67f",
            "value": 8091
          }
        },
        "7ba569f6d09143f8adab407821d23a48": {
          "model_module": "@jupyter-widgets/controls",
          "model_module_version": "1.5.0",
          "model_name": "HTMLModel",
          "state": {
            "_dom_classes": [],
            "_model_module": "@jupyter-widgets/controls",
            "_model_module_version": "1.5.0",
            "_model_name": "HTMLModel",
            "_view_count": null,
            "_view_module": "@jupyter-widgets/controls",
            "_view_module_version": "1.5.0",
            "_view_name": "HTMLView",
            "description": "",
            "description_tooltip": null,
            "layout": "IPY_MODEL_dcd95733f22f4af5882dcfeea47b1957",
            "placeholder": "​",
            "style": "IPY_MODEL_28e1fa45dbde474fb790fc5c2f71fa8e",
            "value": " 40456/40456 [00:00&lt;00:00, 439747.07it/s]"
          }
        },
        "7cb3c719016c4ad6a00df31c3f22dbec": {
          "model_module": "@jupyter-widgets/base",
          "model_module_version": "1.2.0",
          "model_name": "LayoutModel",
          "state": {
            "_model_module": "@jupyter-widgets/base",
            "_model_module_version": "1.2.0",
            "_model_name": "LayoutModel",
            "_view_count": null,
            "_view_module": "@jupyter-widgets/base",
            "_view_module_version": "1.2.0",
            "_view_name": "LayoutView",
            "align_content": null,
            "align_items": null,
            "align_self": null,
            "border": null,
            "bottom": null,
            "display": null,
            "flex": null,
            "flex_flow": null,
            "grid_area": null,
            "grid_auto_columns": null,
            "grid_auto_flow": null,
            "grid_auto_rows": null,
            "grid_column": null,
            "grid_gap": null,
            "grid_row": null,
            "grid_template_areas": null,
            "grid_template_columns": null,
            "grid_template_rows": null,
            "height": null,
            "justify_content": null,
            "justify_items": null,
            "left": null,
            "margin": null,
            "max_height": null,
            "max_width": null,
            "min_height": null,
            "min_width": null,
            "object_fit": null,
            "object_position": null,
            "order": null,
            "overflow": null,
            "overflow_x": null,
            "overflow_y": null,
            "padding": null,
            "right": null,
            "top": null,
            "visibility": null,
            "width": null
          }
        },
        "93f774e5c2a34106a73f4a3cdd5caa97": {
          "model_module": "@jupyter-widgets/base",
          "model_module_version": "1.2.0",
          "model_name": "LayoutModel",
          "state": {
            "_model_module": "@jupyter-widgets/base",
            "_model_module_version": "1.2.0",
            "_model_name": "LayoutModel",
            "_view_count": null,
            "_view_module": "@jupyter-widgets/base",
            "_view_module_version": "1.2.0",
            "_view_name": "LayoutView",
            "align_content": null,
            "align_items": null,
            "align_self": null,
            "border": null,
            "bottom": null,
            "display": null,
            "flex": null,
            "flex_flow": null,
            "grid_area": null,
            "grid_auto_columns": null,
            "grid_auto_flow": null,
            "grid_auto_rows": null,
            "grid_column": null,
            "grid_gap": null,
            "grid_row": null,
            "grid_template_areas": null,
            "grid_template_columns": null,
            "grid_template_rows": null,
            "height": null,
            "justify_content": null,
            "justify_items": null,
            "left": null,
            "margin": null,
            "max_height": null,
            "max_width": null,
            "min_height": null,
            "min_width": null,
            "object_fit": null,
            "object_position": null,
            "order": null,
            "overflow": null,
            "overflow_x": null,
            "overflow_y": null,
            "padding": null,
            "right": null,
            "top": null,
            "visibility": null,
            "width": null
          }
        },
        "960988225d644f6684ad22de0e466ff5": {
          "model_module": "@jupyter-widgets/controls",
          "model_module_version": "1.5.0",
          "model_name": "DescriptionStyleModel",
          "state": {
            "_model_module": "@jupyter-widgets/controls",
            "_model_module_version": "1.5.0",
            "_model_name": "DescriptionStyleModel",
            "_view_count": null,
            "_view_module": "@jupyter-widgets/base",
            "_view_module_version": "1.2.0",
            "_view_name": "StyleView",
            "description_width": ""
          }
        },
        "a415b7695d1e48eba226a9564d551794": {
          "model_module": "@jupyter-widgets/controls",
          "model_module_version": "1.5.0",
          "model_name": "DescriptionStyleModel",
          "state": {
            "_model_module": "@jupyter-widgets/controls",
            "_model_module_version": "1.5.0",
            "_model_name": "DescriptionStyleModel",
            "_view_count": null,
            "_view_module": "@jupyter-widgets/base",
            "_view_module_version": "1.2.0",
            "_view_name": "StyleView",
            "description_width": ""
          }
        },
        "c951a0e6034148e78349d97d32bf93a6": {
          "model_module": "@jupyter-widgets/controls",
          "model_module_version": "1.5.0",
          "model_name": "DescriptionStyleModel",
          "state": {
            "_model_module": "@jupyter-widgets/controls",
            "_model_module_version": "1.5.0",
            "_model_name": "DescriptionStyleModel",
            "_view_count": null,
            "_view_module": "@jupyter-widgets/base",
            "_view_module_version": "1.2.0",
            "_view_name": "StyleView",
            "description_width": ""
          }
        },
        "db23287e77a94c79b3cdb38a9de79b25": {
          "model_module": "@jupyter-widgets/base",
          "model_module_version": "1.2.0",
          "model_name": "LayoutModel",
          "state": {
            "_model_module": "@jupyter-widgets/base",
            "_model_module_version": "1.2.0",
            "_model_name": "LayoutModel",
            "_view_count": null,
            "_view_module": "@jupyter-widgets/base",
            "_view_module_version": "1.2.0",
            "_view_name": "LayoutView",
            "align_content": null,
            "align_items": null,
            "align_self": null,
            "border": null,
            "bottom": null,
            "display": null,
            "flex": null,
            "flex_flow": null,
            "grid_area": null,
            "grid_auto_columns": null,
            "grid_auto_flow": null,
            "grid_auto_rows": null,
            "grid_column": null,
            "grid_gap": null,
            "grid_row": null,
            "grid_template_areas": null,
            "grid_template_columns": null,
            "grid_template_rows": null,
            "height": null,
            "justify_content": null,
            "justify_items": null,
            "left": null,
            "margin": null,
            "max_height": null,
            "max_width": null,
            "min_height": null,
            "min_width": null,
            "object_fit": null,
            "object_position": null,
            "order": null,
            "overflow": null,
            "overflow_x": null,
            "overflow_y": null,
            "padding": null,
            "right": null,
            "top": null,
            "visibility": null,
            "width": null
          }
        },
        "dcd95733f22f4af5882dcfeea47b1957": {
          "model_module": "@jupyter-widgets/base",
          "model_module_version": "1.2.0",
          "model_name": "LayoutModel",
          "state": {
            "_model_module": "@jupyter-widgets/base",
            "_model_module_version": "1.2.0",
            "_model_name": "LayoutModel",
            "_view_count": null,
            "_view_module": "@jupyter-widgets/base",
            "_view_module_version": "1.2.0",
            "_view_name": "LayoutView",
            "align_content": null,
            "align_items": null,
            "align_self": null,
            "border": null,
            "bottom": null,
            "display": null,
            "flex": null,
            "flex_flow": null,
            "grid_area": null,
            "grid_auto_columns": null,
            "grid_auto_flow": null,
            "grid_auto_rows": null,
            "grid_column": null,
            "grid_gap": null,
            "grid_row": null,
            "grid_template_areas": null,
            "grid_template_columns": null,
            "grid_template_rows": null,
            "height": null,
            "justify_content": null,
            "justify_items": null,
            "left": null,
            "margin": null,
            "max_height": null,
            "max_width": null,
            "min_height": null,
            "min_width": null,
            "object_fit": null,
            "object_position": null,
            "order": null,
            "overflow": null,
            "overflow_x": null,
            "overflow_y": null,
            "padding": null,
            "right": null,
            "top": null,
            "visibility": null,
            "width": null
          }
        },
        "dd8138868b32473a83752a29005fabc9": {
          "model_module": "@jupyter-widgets/controls",
          "model_module_version": "1.5.0",
          "model_name": "HBoxModel",
          "state": {
            "_dom_classes": [],
            "_model_module": "@jupyter-widgets/controls",
            "_model_module_version": "1.5.0",
            "_model_name": "HBoxModel",
            "_view_count": null,
            "_view_module": "@jupyter-widgets/controls",
            "_view_module_version": "1.5.0",
            "_view_name": "HBoxView",
            "box_style": "",
            "children": [
              "IPY_MODEL_3d629e81545a46289db90f02ed1d127d",
              "IPY_MODEL_77d067f1bc974a14a619e7a65d66b678",
              "IPY_MODEL_64e166aa90274ff0bd4c17f241531481"
            ],
            "layout": "IPY_MODEL_93f774e5c2a34106a73f4a3cdd5caa97"
          }
        },
        "fbc8eb6827824fa79c35f71f6e3e67a8": {
          "model_module": "@jupyter-widgets/base",
          "model_module_version": "1.2.0",
          "model_name": "LayoutModel",
          "state": {
            "_model_module": "@jupyter-widgets/base",
            "_model_module_version": "1.2.0",
            "_model_name": "LayoutModel",
            "_view_count": null,
            "_view_module": "@jupyter-widgets/base",
            "_view_module_version": "1.2.0",
            "_view_name": "LayoutView",
            "align_content": null,
            "align_items": null,
            "align_self": null,
            "border": null,
            "bottom": null,
            "display": null,
            "flex": null,
            "flex_flow": null,
            "grid_area": null,
            "grid_auto_columns": null,
            "grid_auto_flow": null,
            "grid_auto_rows": null,
            "grid_column": null,
            "grid_gap": null,
            "grid_row": null,
            "grid_template_areas": null,
            "grid_template_columns": null,
            "grid_template_rows": null,
            "height": null,
            "justify_content": null,
            "justify_items": null,
            "left": null,
            "margin": null,
            "max_height": null,
            "max_width": null,
            "min_height": null,
            "min_width": null,
            "object_fit": null,
            "object_position": null,
            "order": null,
            "overflow": null,
            "overflow_x": null,
            "overflow_y": null,
            "padding": null,
            "right": null,
            "top": null,
            "visibility": null,
            "width": null
          }
        }
      }
    }
  },
  "nbformat": 4,
  "nbformat_minor": 0
}
